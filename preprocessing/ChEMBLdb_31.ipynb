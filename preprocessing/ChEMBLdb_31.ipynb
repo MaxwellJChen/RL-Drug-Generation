{
  "nbformat": 4,
  "nbformat_minor": 0,
  "metadata": {
    "colab": {
      "provenance": [],
      "authorship_tag": "ABX9TyOSnaAXaSfY3D+U0VfP0XaP",
      "include_colab_link": true
    },
    "kernelspec": {
      "name": "python3",
      "display_name": "Python 3"
    },
    "language_info": {
      "name": "python"
    },
    "accelerator": "GPU"
  },
  "cells": [
    {
      "cell_type": "markdown",
      "metadata": {
        "id": "view-in-github",
        "colab_type": "text"
      },
      "source": [
        "<a href=\"https://colab.research.google.com/github/MaxwellJChen/rl-drug-generation/blob/main/ChEMBLdb_31.ipynb\" target=\"_parent\"><img src=\"https://colab.research.google.com/assets/colab-badge.svg\" alt=\"Open In Colab\"/></a>"
      ]
    },
    {
      "cell_type": "markdown",
      "source": [
        "# ChEMBLdb 31 Preprocessing & Analysis\n",
        "- 2,304,875 molecules\n",
        "- Obtain SMILES strings\n",
        "- Find distribution of atom types\n",
        "- Find distribution of number of heavy atoms"
      ],
      "metadata": {
        "id": "eQcKko3lqS1Y"
      }
    },
    {
      "cell_type": "code",
      "source": [
        "import pandas\n",
        "from IPython.display import display"
      ],
      "metadata": {
        "id": "FvoZc0wmnM9E"
      },
      "execution_count": 1,
      "outputs": []
    },
    {
      "cell_type": "code",
      "source": [
        "df = pandas.read_csv('/content/chembl_31_chemreps.txt', sep = '\\t', lineterminator = '\\r')"
      ],
      "metadata": {
        "id": "J43WtxoirFFE"
      },
      "execution_count": null,
      "outputs": []
    }
  ]
}
